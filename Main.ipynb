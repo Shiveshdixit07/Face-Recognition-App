{
 "cells": [
  {
   "cell_type": "code",
   "execution_count": 1,
   "metadata": {},
   "outputs": [],
   "source": [
    "import cv2\n",
    "import os\n",
    "import random\n",
    "import numpy as np\n",
    "from matplotlib import pyplot as plt"
   ]
  },
  {
   "cell_type": "code",
   "execution_count": 2,
   "metadata": {},
   "outputs": [],
   "source": [
    "from keras._tf_keras.keras.models import Model\n",
    "from keras._tf_keras.keras.layers import Layer,Conv2D,Dense,MaxPooling2D,Input,Flatten\n",
    "import tensorflow as tf"
   ]
  },
  {
   "cell_type": "code",
   "execution_count": 3,
   "metadata": {},
   "outputs": [],
   "source": [
    "gpus=tf.config.experimental.list_physical_devices('GPU')\n",
    "for gpu in gpus:\n",
    "    tf.config.experimental.set_memory_growth(gpu,True)"
   ]
  },
  {
   "cell_type": "code",
   "execution_count": 4,
   "metadata": {},
   "outputs": [],
   "source": [
    "pos_path=os.path.join('data','positive')\n",
    "neg_path=os.path.join('data','negative')\n",
    "anc_path=os.path.join('data','anchor')"
   ]
  },
  {
   "cell_type": "code",
   "execution_count": 5,
   "metadata": {},
   "outputs": [],
   "source": [
    "os.makedirs(pos_path)\n",
    "os.makedirs(neg_path)\n",
    "os.makedirs(anc_path)"
   ]
  },
  {
   "cell_type": "code",
   "execution_count": 6,
   "metadata": {},
   "outputs": [],
   "source": [
    "\n",
    "for directory in os.listdir('lfw'):\n",
    "    for img in os.listdir(os.path.join('lfw',directory)):\n",
    "        curr_path=os.path.join('lfw',directory,img)\n",
    "        new_path=os.path.join(neg_path,img)\n",
    "        os.replace(curr_path,new_path)"
   ]
  },
  {
   "cell_type": "code",
   "execution_count": 7,
   "metadata": {},
   "outputs": [],
   "source": [
    "import uuid "
   ]
  },
  {
   "cell_type": "code",
   "execution_count": 8,
   "metadata": {},
   "outputs": [],
   "source": [
    "cap=cv2.VideoCapture(0)\n",
    "while cap.isOpened():\n",
    "    ret,frame=cap.read()\n",
    "    frame=frame[130:130+250,250:250+250,: ]\n",
    "    if (cv2.waitKey(1) & 0XFF==ord('a')):\n",
    "         image_name=os.path.join(anc_path,'{}.jpg'.format(uuid.uuid1()))\n",
    "         cv2.imwrite(image_name,frame)\n",
    "\n",
    "    if (cv2.waitKey(1) & 0XFF==ord('p')):\n",
    "         image_name=os.path.join(pos_path,'{}.jpg'.format(uuid.uuid1()))\n",
    "         cv2.imwrite(image_name,frame)\n",
    "    \n",
    "    cv2.imshow(\"Image Collection\",frame)\n",
    "    if (cv2.waitKey(1) & 0XFF==ord('q')):\n",
    "         break\n",
    "cap.release()\n",
    "cv2.destroyAllWindows()   "
   ]
  },
  {
   "cell_type": "code",
   "execution_count": 9,
   "metadata": {},
   "outputs": [],
   "source": [
    "anchor=tf.data.Dataset.list_files(anc_path +'\\\\*.jpg').take(300)\n",
    "positive=tf.data.Dataset.list_files(pos_path +'\\\\*.jpg').take(300)\n",
    "negative=tf.data.Dataset.list_files(neg_path +'\\\\*.jpg').take(300)"
   ]
  },
  {
   "cell_type": "code",
   "execution_count": null,
   "metadata": {},
   "outputs": [],
   "source": [
    "itr=anchor.as_numpy_iterator()\n",
    "itr.next()"
   ]
  },
  {
   "cell_type": "code",
   "execution_count": 11,
   "metadata": {},
   "outputs": [],
   "source": [
    "def preprocessing(file_path):\n",
    "    byte_image=tf.io.read_file(file_path)\n",
    "    img=tf.io.decode_jpeg(byte_image)\n",
    "    img=tf.image.resize(img,(100,100))\n",
    "    img=img/255.0\n",
    "    return img"
   ]
  },
  {
   "cell_type": "code",
   "execution_count": null,
   "metadata": {},
   "outputs": [],
   "source": [
    "image=preprocessing('data\\\\anchor\\\\5dc95cdd-5bee-11ef-9edd-202b20ec451a.jpg')\n",
    "# plt.imshow(image)\n",
    "image.numpy().min()"
   ]
  },
  {
   "cell_type": "code",
   "execution_count": 13,
   "metadata": {},
   "outputs": [],
   "source": [
    "positives=tf.data.Dataset.zip((anchor,positive,tf.data.Dataset.from_tensor_slices(tf.ones(len(anchor)))))\n",
    "negatives=tf.data.Dataset.zip((anchor,negative,tf.data.Dataset.from_tensor_slices(tf.zeros(len(anchor)))))\n",
    "data=positives.concatenate(negatives)"
   ]
  },
  {
   "cell_type": "code",
   "execution_count": null,
   "metadata": {},
   "outputs": [],
   "source": [
    "samples=data.as_numpy_iterator()\n",
    "eg=samples.next()\n",
    "eg"
   ]
  },
  {
   "cell_type": "code",
   "execution_count": 15,
   "metadata": {},
   "outputs": [],
   "source": [
    "def preprocessing_twin(input_image,validation_image,label):\n",
    "    return (preprocessing(input_image),preprocessing(validation_image),label)"
   ]
  },
  {
   "cell_type": "code",
   "execution_count": 16,
   "metadata": {},
   "outputs": [],
   "source": [
    "res=preprocessing_twin(*eg)\n",
    "# plt.imshow(res[1])"
   ]
  },
  {
   "cell_type": "code",
   "execution_count": 17,
   "metadata": {},
   "outputs": [],
   "source": [
    "data=data.map(preprocessing_twin)\n",
    "data=data.cache()\n",
    "data=data.shuffle(buffer_size=1024)"
   ]
  },
  {
   "cell_type": "code",
   "execution_count": 18,
   "metadata": {},
   "outputs": [],
   "source": [
    "train_data=data.take(round(len(data)*0.7))\n",
    "train_data=train_data.batch(16)\n",
    "train_data=train_data.prefetch(8)"
   ]
  },
  {
   "cell_type": "code",
   "execution_count": null,
   "metadata": {},
   "outputs": [],
   "source": [
    "train_sample=train_data.as_numpy_iterator()\n",
    "print(len(train_sample.next()[2]))"
   ]
  },
  {
   "cell_type": "code",
   "execution_count": 20,
   "metadata": {},
   "outputs": [],
   "source": [
    "test_data=data.skip(round(len(data)*0.7))\n",
    "test_data=test_data.take(round(len(data)*0.3))\n",
    "test_data=test_data.batch(16)\n",
    "test_data=test_data.prefetch(8)\n"
   ]
  },
  {
   "cell_type": "code",
   "execution_count": 21,
   "metadata": {},
   "outputs": [],
   "source": [
    "def make_embedding():\n",
    "    inp=Input(shape=(100,100,3),name=\"Input_Image\")\n",
    "    \n",
    "    #first block\n",
    "    c1=Conv2D(64,(10,10),activation='relu')(inp)\n",
    "    m1=MaxPooling2D(64,(2,2),padding='same')(c1)\n",
    "\n",
    "    #second block\n",
    "    c2=Conv2D(128,(7,7),activation='relu')(m1)\n",
    "    m2=MaxPooling2D(64,(2,2),padding='same')(c2)\n",
    "\n",
    "    #third block\n",
    "    c3=Conv2D(128,(4,4),activation='relu')(m2)\n",
    "    m3=MaxPooling2D(64,(2,2),padding='same')(c3)\n",
    "\n",
    "    #final embedding\n",
    "    c4=Conv2D(256,(4,4),activation='relu')(m3)\n",
    "    f1=Flatten()(c4)\n",
    "    d1=Dense(4096,activation='sigmoid')(f1)\n",
    "\n",
    "    return Model(inputs=inp,outputs=d1,name=\"embedding\")"
   ]
  },
  {
   "cell_type": "code",
   "execution_count": null,
   "metadata": {},
   "outputs": [],
   "source": [
    "embedding=make_embedding()\n",
    "embedding.summary()"
   ]
  },
  {
   "cell_type": "code",
   "execution_count": 23,
   "metadata": {},
   "outputs": [],
   "source": [
    "class L1Dist(Layer):\n",
    "    def __init__(self,**kwargs):\n",
    "        super().__init__()\n",
    "\n",
    "    def call(self,input_embedding,validation_embedding):\n",
    "        return tf.math.abs(input_embedding - validation_embedding)    \n",
    "\n"
   ]
  },
  {
   "cell_type": "code",
   "execution_count": 24,
   "metadata": {},
   "outputs": [],
   "source": [
    "def make_siamese_model():\n",
    "    #taking anchor image as input\n",
    "    input_image=Input(shape=(100,100,3),name='input image')\n",
    "\n",
    "    #taking validation image as input\n",
    "    validation_image=Input(shape=(100,100,3),name='validation image')\n",
    "\n",
    "    #combining siamese distance components\n",
    "    siamese_layer=L1Dist()\n",
    "    siamese_layer._name = 'distance'\n",
    "    distances=siamese_layer(embedding(input_image),embedding(validation_image))\n",
    "\n",
    "    #classification layer\n",
    "    classifier=Dense(1,activation='sigmoid')(distances)\n",
    "\n",
    "    return Model(inputs=[input_image,validation_image],outputs=classifier,name='SiameseNetwork')\n",
    "\n"
   ]
  },
  {
   "cell_type": "code",
   "execution_count": null,
   "metadata": {},
   "outputs": [],
   "source": [
    "siamese_model = make_siamese_model()\n",
    "siamese_model.summary()"
   ]
  },
  {
   "cell_type": "code",
   "execution_count": 26,
   "metadata": {},
   "outputs": [],
   "source": [
    "binary_cross_loss=tf.losses.BinaryCrossentropy()\n",
    "opt=tf.keras.optimizers.Adam(1e-4)#0.0001"
   ]
  },
  {
   "cell_type": "code",
   "execution_count": 27,
   "metadata": {},
   "outputs": [],
   "source": [
    "checkpoints_dir='./training_checkpoints'\n",
    "checkpoints_prefix=os.path.join(checkpoints_dir,'ckpt')\n",
    "checkpoint=tf.train.Checkpoint(opt=opt,siamese_model=siamese_model)"
   ]
  },
  {
   "cell_type": "code",
   "execution_count": 28,
   "metadata": {},
   "outputs": [],
   "source": [
    "@tf.function\n",
    "def train_step(batch):\n",
    "\n",
    "    with tf.GradientTape() as tape: \n",
    "        # get anchor and positive/negative image\n",
    "        x=batch[:2]\n",
    "        #get label\n",
    "        y=batch[2]\n",
    "\n",
    "        #forward pass\n",
    "        y_predicted=siamese_model(x,training=True)\n",
    "        #calculating loss\n",
    "        loss=binary_cross_loss(y,y_predicted)\n",
    "    print(loss)\n",
    "\n",
    "    grad=tape.gradient(loss,siamese_model.trainable_variables)\n",
    "    opt.apply_gradients(zip(grad,siamese_model.trainable_variables))    \n",
    "    \n",
    "    return loss\n"
   ]
  },
  {
   "cell_type": "code",
   "execution_count": 29,
   "metadata": {},
   "outputs": [],
   "source": [
    "def train(data,EPOCHS):\n",
    "    for epoch in range(1,EPOCHS+1):\n",
    "        print('\\n Epoch {}/{}'.format(epoch,EPOCHS))\n",
    "        progbar=tf.keras.utils.Progbar(len(data))\n",
    "\n",
    "        for idx,batch in enumerate(data):\n",
    "                train_step(batch)\n",
    "                progbar.update(idx+1)\n",
    "\n",
    "        if epoch%10==0:\n",
    "             checkpoint.save(file_prefix=checkpoints_prefix)    \n"
   ]
  },
  {
   "cell_type": "code",
   "execution_count": null,
   "metadata": {},
   "outputs": [],
   "source": [
    "EPOCHS=50\n",
    "train(train_data,EPOCHS)"
   ]
  },
  {
   "cell_type": "code",
   "execution_count": 31,
   "metadata": {},
   "outputs": [],
   "source": [
    "from tensorflow.keras.metrics import Precision,Recall"
   ]
  },
  {
   "cell_type": "code",
   "execution_count": null,
   "metadata": {},
   "outputs": [],
   "source": [
    "test_input,test_val,y_true=test_data.as_numpy_iterator().next()\n",
    "y_true"
   ]
  },
  {
   "cell_type": "code",
   "execution_count": null,
   "metadata": {},
   "outputs": [],
   "source": [
    "#make predictions\n",
    "y_hat=siamese_model.predict([test_input,test_val])\n",
    "y_hat"
   ]
  },
  {
   "cell_type": "code",
   "execution_count": null,
   "metadata": {},
   "outputs": [],
   "source": [
    "res=[]\n",
    "for prediction in y_hat:\n",
    "    if(prediction>0.5):\n",
    "        res.append(1)\n",
    "    else:\n",
    "        res.append(0)\n",
    "\n",
    "        \n",
    "res        \n"
   ]
  },
  {
   "cell_type": "code",
   "execution_count": null,
   "metadata": {},
   "outputs": [],
   "source": [
    "m=Recall()\n",
    "m.update_state(y_true,y_hat)\n",
    "m.result().numpy()"
   ]
  },
  {
   "cell_type": "code",
   "execution_count": null,
   "metadata": {},
   "outputs": [],
   "source": [
    "m=Precision()\n",
    "m.update_state(y_true,y_hat)\n",
    "m.result().numpy()"
   ]
  },
  {
   "cell_type": "code",
   "execution_count": null,
   "metadata": {},
   "outputs": [],
   "source": [
    "plt.figure(figsize=(10,8))\n",
    "plt.subplot(1,2,1)\n",
    "plt.imshow(test_input[1])\n",
    "plt.subplot(1,2,2)\n",
    "plt.imshow(test_val[1])\n",
    "plt.show()\n"
   ]
  },
  {
   "cell_type": "code",
   "execution_count": null,
   "metadata": {},
   "outputs": [],
   "source": [
    "siamese_model.save('model.h5')"
   ]
  },
  {
   "cell_type": "code",
   "execution_count": null,
   "metadata": {},
   "outputs": [],
   "source": [
    "#reload model\n",
    "model=tf.keras.models.load_model('model.h5',custom_objects={'L1Dist':L1Dist,\n",
    "                                                            'BinaryCrossentropy':tf.losses.BinaryCrossentropy})"
   ]
  },
  {
   "cell_type": "code",
   "execution_count": null,
   "metadata": {},
   "outputs": [],
   "source": [
    "model.predict([test_input,test_val])"
   ]
  },
  {
   "cell_type": "code",
   "execution_count": 41,
   "metadata": {},
   "outputs": [],
   "source": [
    "def verify(model,detection_threshold,verification_threshold):\n",
    "    results=[]\n",
    "    for img in os.listdir(os.path.join('app_data','verification_images')):\n",
    "        input_image=preprocessing(os.path.join('app_data','input_images','input_image.jpg'))\n",
    "        validation_image=preprocessing(os.path.join('app_data','verification_images',img))\n",
    "        \n",
    "        result=model.predict(list(np.expand_dims([input_image,validation_image],axis=1)))\n",
    "        results.append(result)\n",
    "    \n",
    "    detection=np.sum(np.array(results)>detection_threshold)\n",
    "\n",
    "    verification=detection/len(os.listdir(os.path.join('app_data','verification_images')))\n",
    "    verified=(verification>verification_threshold)\n",
    "\n",
    "    return results,verified"
   ]
  },
  {
   "cell_type": "code",
   "execution_count": null,
   "metadata": {},
   "outputs": [],
   "source": [
    "cap=cv2.VideoCapture(0)\n",
    "while cap.isOpened():\n",
    "    ret,frame=cap.read()\n",
    "    frame=frame[130:130+250,250:250+250,: ]\n",
    "    cv2.imshow('Verification',frame)\n",
    "\n",
    "    if cv2.waitKey(10) & 0xFF ==ord('v'):\n",
    "        cv2.imwrite(os.path.join('app_data','input_images','input_image.jpg'),frame)\n",
    "        results , verified = verify(model,0.5,0.5)\n",
    "        print(verified)\n",
    "\n",
    "    if cv2.waitKey(10) & 0xFF ==ord('q'):\n",
    "        break\n",
    "cap.release()\n",
    "cv2.destroyAllWindows()    "
   ]
  }
 ],
 "metadata": {
  "kernelspec": {
   "display_name": "myenv",
   "language": "python",
   "name": "python3"
  },
  "language_info": {
   "codemirror_mode": {
    "name": "ipython",
    "version": 3
   },
   "file_extension": ".py",
   "mimetype": "text/x-python",
   "name": "python",
   "nbconvert_exporter": "python",
   "pygments_lexer": "ipython3",
   "version": "3.12.4"
  }
 },
 "nbformat": 4,
 "nbformat_minor": 2
}
